{
 "cells": [
  {
   "cell_type": "code",
   "execution_count": 3,
   "metadata": {},
   "outputs": [],
   "source": [
    "#hide\n",
    "# !pip install -Uqq fastbook\n",
    "import fastbook\n",
    "fastbook.setup_book()"
   ]
  },
  {
   "cell_type": "code",
   "execution_count": 4,
   "metadata": {},
   "outputs": [
    {
     "name": "stdout",
     "output_type": "stream",
     "text": [
      "Requirement already satisfied: voila in /anaconda/envs/fastai2/lib/python3.7/site-packages (0.2.6)\n",
      "Requirement already satisfied: nbclient<0.6,>=0.4.0 in /anaconda/envs/fastai2/lib/python3.7/site-packages (from voila) (0.5.1)\n",
      "Requirement already satisfied: nbconvert<7,>=6.0.0 in /anaconda/envs/fastai2/lib/python3.7/site-packages (from voila) (6.0.7)\n",
      "Requirement already satisfied: jupyter-server<2.0.0,>=0.3.0 in /anaconda/envs/fastai2/lib/python3.7/site-packages (from voila) (1.2.3)\n",
      "Requirement already satisfied: jupyter-client<7,>=6.1.3 in /anaconda/envs/fastai2/lib/python3.7/site-packages (from voila) (6.1.11)\n",
      "Requirement already satisfied: jupyter-core>=4.6.0 in /anaconda/envs/fastai2/lib/python3.7/site-packages (from jupyter-client<7,>=6.1.3->voila) (4.7.0)\n",
      "Requirement already satisfied: python-dateutil>=2.1 in /anaconda/envs/fastai2/lib/python3.7/site-packages (from jupyter-client<7,>=6.1.3->voila) (2.8.1)\n",
      "Requirement already satisfied: pyzmq>=13 in /anaconda/envs/fastai2/lib/python3.7/site-packages (from jupyter-client<7,>=6.1.3->voila) (21.0.1)\n",
      "Requirement already satisfied: tornado>=4.1 in /anaconda/envs/fastai2/lib/python3.7/site-packages (from jupyter-client<7,>=6.1.3->voila) (6.1)\n",
      "Requirement already satisfied: traitlets in /anaconda/envs/fastai2/lib/python3.7/site-packages (from jupyter-client<7,>=6.1.3->voila) (5.0.5)\n",
      "Requirement already satisfied: anyio>=2.0.2 in /anaconda/envs/fastai2/lib/python3.7/site-packages (from jupyter-server<2.0.0,>=0.3.0->voila) (2.0.2)\n",
      "Requirement already satisfied: jinja2 in /anaconda/envs/fastai2/lib/python3.7/site-packages (from jupyter-server<2.0.0,>=0.3.0->voila) (2.11.2)\n",
      "Requirement already satisfied: ipython-genutils in /anaconda/envs/fastai2/lib/python3.7/site-packages (from jupyter-server<2.0.0,>=0.3.0->voila) (0.2.0)\n",
      "Requirement already satisfied: nbformat in /anaconda/envs/fastai2/lib/python3.7/site-packages (from jupyter-server<2.0.0,>=0.3.0->voila) (5.1.2)\n",
      "Requirement already satisfied: Send2Trash in /anaconda/envs/fastai2/lib/python3.7/site-packages (from jupyter-server<2.0.0,>=0.3.0->voila) (1.5.0)\n",
      "Requirement already satisfied: prometheus-client in /anaconda/envs/fastai2/lib/python3.7/site-packages (from jupyter-server<2.0.0,>=0.3.0->voila) (0.9.0)\n",
      "Requirement already satisfied: terminado>=0.8.3 in /anaconda/envs/fastai2/lib/python3.7/site-packages (from jupyter-server<2.0.0,>=0.3.0->voila) (0.9.2)\n",
      "Requirement already satisfied: idna>=2.8 in /anaconda/envs/fastai2/lib/python3.7/site-packages (from anyio>=2.0.2->jupyter-server<2.0.0,>=0.3.0->voila) (2.10)\n",
      "Requirement already satisfied: typing-extensions in /anaconda/envs/fastai2/lib/python3.7/site-packages (from anyio>=2.0.2->jupyter-server<2.0.0,>=0.3.0->voila) (3.7.4.3)\n",
      "Requirement already satisfied: sniffio>=1.1 in /anaconda/envs/fastai2/lib/python3.7/site-packages (from anyio>=2.0.2->jupyter-server<2.0.0,>=0.3.0->voila) (1.2.0)\n",
      "Requirement already satisfied: async-generator in /anaconda/envs/fastai2/lib/python3.7/site-packages (from nbclient<0.6,>=0.4.0->voila) (1.10)\n",
      "Requirement already satisfied: nest-asyncio in /anaconda/envs/fastai2/lib/python3.7/site-packages (from nbclient<0.6,>=0.4.0->voila) (1.5.1)\n",
      "Requirement already satisfied: bleach in /anaconda/envs/fastai2/lib/python3.7/site-packages (from nbconvert<7,>=6.0.0->voila) (3.2.2)\n",
      "Requirement already satisfied: defusedxml in /anaconda/envs/fastai2/lib/python3.7/site-packages (from nbconvert<7,>=6.0.0->voila) (0.6.0)\n",
      "Requirement already satisfied: mistune<2,>=0.8.1 in /anaconda/envs/fastai2/lib/python3.7/site-packages (from nbconvert<7,>=6.0.0->voila) (0.8.4)\n",
      "Requirement already satisfied: pandocfilters>=1.4.1 in /anaconda/envs/fastai2/lib/python3.7/site-packages (from nbconvert<7,>=6.0.0->voila) (1.4.3)\n",
      "Requirement already satisfied: testpath in /anaconda/envs/fastai2/lib/python3.7/site-packages (from nbconvert<7,>=6.0.0->voila) (0.4.4)\n",
      "Requirement already satisfied: pygments>=2.4.1 in /anaconda/envs/fastai2/lib/python3.7/site-packages (from nbconvert<7,>=6.0.0->voila) (2.7.4)\n",
      "Requirement already satisfied: jupyterlab-pygments in /anaconda/envs/fastai2/lib/python3.7/site-packages (from nbconvert<7,>=6.0.0->voila) (0.1.2)\n",
      "Requirement already satisfied: entrypoints>=0.2.2 in /anaconda/envs/fastai2/lib/python3.7/site-packages (from nbconvert<7,>=6.0.0->voila) (0.3)\n",
      "Requirement already satisfied: MarkupSafe>=0.23 in /anaconda/envs/fastai2/lib/python3.7/site-packages (from jinja2->jupyter-server<2.0.0,>=0.3.0->voila) (1.1.1)\n",
      "Requirement already satisfied: jsonschema!=2.5.0,>=2.4 in /anaconda/envs/fastai2/lib/python3.7/site-packages (from nbformat->jupyter-server<2.0.0,>=0.3.0->voila) (3.2.0)\n",
      "Requirement already satisfied: six>=1.11.0 in /anaconda/envs/fastai2/lib/python3.7/site-packages (from jsonschema!=2.5.0,>=2.4->nbformat->jupyter-server<2.0.0,>=0.3.0->voila) (1.15.0)\n",
      "Requirement already satisfied: setuptools in /anaconda/envs/fastai2/lib/python3.7/site-packages (from jsonschema!=2.5.0,>=2.4->nbformat->jupyter-server<2.0.0,>=0.3.0->voila) (51.3.3.post20210118)\n",
      "Requirement already satisfied: importlib-metadata in /anaconda/envs/fastai2/lib/python3.7/site-packages (from jsonschema!=2.5.0,>=2.4->nbformat->jupyter-server<2.0.0,>=0.3.0->voila) (3.4.0)\n",
      "Requirement already satisfied: attrs>=17.4.0 in /anaconda/envs/fastai2/lib/python3.7/site-packages (from jsonschema!=2.5.0,>=2.4->nbformat->jupyter-server<2.0.0,>=0.3.0->voila) (20.3.0)\n",
      "Requirement already satisfied: pyrsistent>=0.14.0 in /anaconda/envs/fastai2/lib/python3.7/site-packages (from jsonschema!=2.5.0,>=2.4->nbformat->jupyter-server<2.0.0,>=0.3.0->voila) (0.17.3)\n",
      "Requirement already satisfied: ptyprocess in /anaconda/envs/fastai2/lib/python3.7/site-packages (from terminado>=0.8.3->jupyter-server<2.0.0,>=0.3.0->voila) (0.7.0)\n",
      "Requirement already satisfied: packaging in /anaconda/envs/fastai2/lib/python3.7/site-packages (from bleach->nbconvert<7,>=6.0.0->voila) (20.8)\n",
      "Requirement already satisfied: webencodings in /anaconda/envs/fastai2/lib/python3.7/site-packages (from bleach->nbconvert<7,>=6.0.0->voila) (0.5.1)\n",
      "Requirement already satisfied: zipp>=0.5 in /anaconda/envs/fastai2/lib/python3.7/site-packages (from importlib-metadata->jsonschema!=2.5.0,>=2.4->nbformat->jupyter-server<2.0.0,>=0.3.0->voila) (3.4.0)\n",
      "Requirement already satisfied: pyparsing>=2.0.2 in /anaconda/envs/fastai2/lib/python3.7/site-packages (from packaging->bleach->nbconvert<7,>=6.0.0->voila) (2.4.7)\n",
      "Enabling: voila\n",
      "- Writing config: /anaconda/envs/fastai2/etc/jupyter\n",
      "    - Validating...\n",
      "      voila 0.2.6 \u001b[32mOK\u001b[0m\n"
     ]
    }
   ],
   "source": [
    "!pip install voila\n",
    "!jupyter serverextension enable --sys-prefix voila "
   ]
  },
  {
   "cell_type": "code",
   "execution_count": 5,
   "metadata": {},
   "outputs": [],
   "source": [
    "#hide\n",
    "from fastbook import *\n",
    "from fastai.vision.widgets import *"
   ]
  },
  {
   "cell_type": "code",
   "execution_count": 15,
   "metadata": {},
   "outputs": [
    {
     "data": {
      "text/plain": [
       "(#1) [Path('export.pkl')]"
      ]
     },
     "execution_count": 15,
     "metadata": {},
     "output_type": "execute_result"
    }
   ],
   "source": [
    "path = Path('.')\n",
    "path.ls(file_exts='.pkl')"
   ]
  },
  {
   "cell_type": "code",
   "execution_count": 16,
   "metadata": {},
   "outputs": [],
   "source": [
    "learn_inf = load_learner(path/'export.pkl')"
   ]
  },
  {
   "cell_type": "markdown",
   "metadata": {},
   "source": [
    "### Creating a Notebook App from the Model"
   ]
  },
  {
   "cell_type": "code",
   "execution_count": 17,
   "metadata": {},
   "outputs": [],
   "source": [
    "btn_run = widgets.Button(description='Classify')"
   ]
  },
  {
   "cell_type": "code",
   "execution_count": 18,
   "metadata": {},
   "outputs": [],
   "source": [
    "out_pl = widgets.Output()\n",
    "\n",
    "def on_click_classify(change):\n",
    "    if(len(btn_upload.data) == 0):\n",
    "        return\n",
    "        \n",
    "    img = PILImage.create(btn_upload.data[-1])\n",
    "    out_pl.clear_output()\n",
    "    with out_pl: display(img.to_thumb(128,128))\n",
    "    pred,pred_idx,probs = learn_inf.predict(img)\n",
    "    \n",
    "    lbl_pred = widgets.Label()\n",
    "    lbl_pred.value = f'Prediction: {pred}; Probability: {probs[pred_idx]:.04f}'\n",
    "    display(lbl_pred)\n",
    "\n",
    "btn_run.on_click(on_click_classify)"
   ]
  },
  {
   "cell_type": "code",
   "execution_count": 19,
   "metadata": {},
   "outputs": [],
   "source": [
    "#Putting back btn_upload to a widget for next cell\n",
    "btn_upload = widgets.FileUpload()\n",
    "out_pl.clear_output()"
   ]
  },
  {
   "cell_type": "code",
   "execution_count": 20,
   "metadata": {},
   "outputs": [
    {
     "data": {
      "application/vnd.jupyter.widget-view+json": {
       "model_id": "2e5ba61653654c9289f12d72d58ed3cb",
       "version_major": 2,
       "version_minor": 0
      },
      "text/plain": [
       "VBox(children=(Label(value='Upload a photo!'), FileUpload(value={}, description='Upload'), Button(description=…"
      ]
     },
     "metadata": {},
     "output_type": "display_data"
    },
    {
     "data": {
      "text/html": [],
      "text/plain": [
       "<IPython.core.display.HTML object>"
      ]
     },
     "metadata": {},
     "output_type": "display_data"
    },
    {
     "data": {
      "application/vnd.jupyter.widget-view+json": {
       "model_id": "1d07b3e156774fa183c6c848ff8a5446",
       "version_major": 2,
       "version_minor": 0
      },
      "text/plain": [
       "Label(value='Prediction: Ofir; Probability: 1.0000')"
      ]
     },
     "metadata": {},
     "output_type": "display_data"
    }
   ],
   "source": [
    "VBox([widgets.Label('Upload a photo!'), \n",
    "      btn_upload, btn_run, out_pl])"
   ]
  }
 ],
 "metadata": {
  "jupytext": {
   "split_at_heading": true
  },
  "kernelspec": {
   "display_name": "fastai2",
   "language": "python",
   "name": "conda-env-fastai2-py"
  },
  "language_info": {
   "codemirror_mode": {
    "name": "ipython",
    "version": 3
   },
   "file_extension": ".py",
   "mimetype": "text/x-python",
   "name": "python",
   "nbconvert_exporter": "python",
   "pygments_lexer": "ipython3",
   "version": "3.7.9"
  }
 },
 "nbformat": 4,
 "nbformat_minor": 4
}
